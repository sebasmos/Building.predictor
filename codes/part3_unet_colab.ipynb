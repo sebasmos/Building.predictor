{
  "nbformat": 4,
  "nbformat_minor": 5,
  "metadata": {
    "accelerator": "GPU",
    "colab": {
      "name": "part3_unet.ipynb",
      "provenance": [],
      "collapsed_sections": []
    },
    "kernelspec": {
      "display_name": "Python 3 (ipykernel)",
      "language": "python",
      "name": "python3"
    },
    "language_info": {
      "codemirror_mode": {
        "name": "ipython",
        "version": 3
      },
      "file_extension": ".py",
      "mimetype": "text/x-python",
      "name": "python",
      "nbconvert_exporter": "python",
      "pygments_lexer": "ipython3",
      "version": "3.9.7"
    }
  },
  "cells": [
    {
      "cell_type": "code",
      "metadata": {
        "colab": {
          "base_uri": "https://localhost:8080/"
        },
        "id": "HtE6X7st0DB3",
        "outputId": "d04485df-ded6-4545-f746-aeccaa90f7d0"
      },
      "source": [
        "from google.colab import drive\n",
        "drive.mount('/content/drive')"
      ],
      "id": "HtE6X7st0DB3",
      "execution_count": 28,
      "outputs": [
        {
          "output_type": "stream",
          "name": "stdout",
          "text": [
            "Drive already mounted at /content/drive; to attempt to forcibly remount, call drive.mount(\"/content/drive\", force_remount=True).\n"
          ]
        }
      ]
    },
    {
      "cell_type": "code",
      "metadata": {
        "colab": {
          "base_uri": "https://localhost:8080/"
        },
        "id": "OwrQlXN80Fbp",
        "outputId": "88a5676a-6f74-4496-8fbd-d76904af14cb"
      },
      "source": [
        "!pip install -U albumentations --user"
      ],
      "id": "OwrQlXN80Fbp",
      "execution_count": 29,
      "outputs": [
        {
          "output_type": "stream",
          "name": "stdout",
          "text": [
            "Requirement already satisfied: albumentations in /root/.local/lib/python3.7/site-packages (1.1.0)\n",
            "Requirement already satisfied: numpy>=1.11.1 in /usr/local/lib/python3.7/dist-packages (from albumentations) (1.19.5)\n",
            "Requirement already satisfied: PyYAML in /usr/local/lib/python3.7/dist-packages (from albumentations) (3.13)\n",
            "Requirement already satisfied: opencv-python-headless>=4.1.1 in /root/.local/lib/python3.7/site-packages (from albumentations) (4.5.4.58)\n",
            "Requirement already satisfied: scikit-image>=0.16.1 in /usr/local/lib/python3.7/dist-packages (from albumentations) (0.18.3)\n",
            "Requirement already satisfied: scipy in /usr/local/lib/python3.7/dist-packages (from albumentations) (1.4.1)\n",
            "Requirement already satisfied: qudida>=0.0.4 in /root/.local/lib/python3.7/site-packages (from albumentations) (0.0.4)\n",
            "Requirement already satisfied: scikit-learn>=0.19.1 in /usr/local/lib/python3.7/dist-packages (from qudida>=0.0.4->albumentations) (1.0.1)\n",
            "Requirement already satisfied: typing-extensions in /usr/local/lib/python3.7/dist-packages (from qudida>=0.0.4->albumentations) (3.10.0.2)\n",
            "Requirement already satisfied: pillow!=7.1.0,!=7.1.1,>=4.3.0 in /usr/local/lib/python3.7/dist-packages (from scikit-image>=0.16.1->albumentations) (7.1.2)\n",
            "Requirement already satisfied: PyWavelets>=1.1.1 in /usr/local/lib/python3.7/dist-packages (from scikit-image>=0.16.1->albumentations) (1.2.0)\n",
            "Requirement already satisfied: networkx>=2.0 in /usr/local/lib/python3.7/dist-packages (from scikit-image>=0.16.1->albumentations) (2.6.3)\n",
            "Requirement already satisfied: tifffile>=2019.7.26 in /usr/local/lib/python3.7/dist-packages (from scikit-image>=0.16.1->albumentations) (2021.11.2)\n",
            "Requirement already satisfied: matplotlib!=3.0.0,>=2.0.0 in /usr/local/lib/python3.7/dist-packages (from scikit-image>=0.16.1->albumentations) (3.2.2)\n",
            "Requirement already satisfied: imageio>=2.3.0 in /usr/local/lib/python3.7/dist-packages (from scikit-image>=0.16.1->albumentations) (2.4.1)\n",
            "Requirement already satisfied: python-dateutil>=2.1 in /usr/local/lib/python3.7/dist-packages (from matplotlib!=3.0.0,>=2.0.0->scikit-image>=0.16.1->albumentations) (2.8.2)\n",
            "Requirement already satisfied: cycler>=0.10 in /usr/local/lib/python3.7/dist-packages (from matplotlib!=3.0.0,>=2.0.0->scikit-image>=0.16.1->albumentations) (0.11.0)\n",
            "Requirement already satisfied: pyparsing!=2.0.4,!=2.1.2,!=2.1.6,>=2.0.1 in /usr/local/lib/python3.7/dist-packages (from matplotlib!=3.0.0,>=2.0.0->scikit-image>=0.16.1->albumentations) (2.4.7)\n",
            "Requirement already satisfied: kiwisolver>=1.0.1 in /usr/local/lib/python3.7/dist-packages (from matplotlib!=3.0.0,>=2.0.0->scikit-image>=0.16.1->albumentations) (1.3.2)\n",
            "Requirement already satisfied: six>=1.5 in /usr/local/lib/python3.7/dist-packages (from python-dateutil>=2.1->matplotlib!=3.0.0,>=2.0.0->scikit-image>=0.16.1->albumentations) (1.15.0)\n",
            "Requirement already satisfied: joblib>=0.11 in /usr/local/lib/python3.7/dist-packages (from scikit-learn>=0.19.1->qudida>=0.0.4->albumentations) (1.1.0)\n",
            "Requirement already satisfied: threadpoolctl>=2.0.0 in /usr/local/lib/python3.7/dist-packages (from scikit-learn>=0.19.1->qudida>=0.0.4->albumentations) (3.0.0)\n"
          ]
        }
      ]
    },
    {
      "cell_type": "code",
      "metadata": {
        "id": "E_l3XWmW0LiZ"
      },
      "source": [
        "import os\n",
        "os.environ['CUDA_LAUNCH_BLOCKING'] = \"1\""
      ],
      "id": "E_l3XWmW0LiZ",
      "execution_count": 30,
      "outputs": []
    },
    {
      "cell_type": "code",
      "metadata": {
        "colab": {
          "base_uri": "https://localhost:8080/"
        },
        "id": "ZDZPv4CU0J-j",
        "outputId": "8574b217-e1a9-438e-8882-edcd4ca7c8c0"
      },
      "source": [
        "% cd /content/drive/MyDrive/Colab Notebooks/SPACENET7/Multi-temporal.building.tracker/codes"
      ],
      "id": "ZDZPv4CU0J-j",
      "execution_count": 31,
      "outputs": [
        {
          "output_type": "stream",
          "name": "stdout",
          "text": [
            "/content/drive/MyDrive/Colab Notebooks/SPACENET7/Multi-temporal.building.tracker/codes\n"
          ]
        }
      ]
    },
    {
      "cell_type": "code",
      "metadata": {
        "colab": {
          "base_uri": "https://localhost:8080/"
        },
        "id": "ff058fd0",
        "outputId": "3df681cc-07ad-4ec6-aa0c-ce372eaaddde"
      },
      "source": [
        "!pip install rasterio\n",
        "!pip install geopandas\n",
        "# Imports\n",
        "import torch\n",
        "import torch.nn as nn  # All neural network modules, nn.Linear, nn.Conv2d, BatchNorm, Loss functions\n",
        "import torch.optim as optim  # For all Optimization algorithms, SGD, Adam, etc.\n",
        "import torch.nn.functional as F  # All functions that don't have any parameters\n",
        "from torch.utils.data import (\n",
        "    DataLoader,\n",
        ")  # Gives easier dataset managment and creates mini batches\n",
        "import torchvision\n",
        "import torchvision.datasets as datasets  # Has standard datasets we can import in a nice way\n",
        "import torchvision.transforms as transforms  # Transformations we can perform on our dataset\n",
        "from torchvision import datasets, transforms, models\n",
        "from pathlib import Path\n",
        "import pathlib\n",
        "from PIL import Image\n",
        "import pandas as pd\n",
        "\n",
        "from data_loader import Dataloader_trdp\n",
        "\n",
        "# Set device\n",
        "device = torch.device(\"cuda\" if torch.cuda.is_available() else \"cpu\")\n"
      ],
      "id": "ff058fd0",
      "execution_count": 32,
      "outputs": [
        {
          "output_type": "stream",
          "name": "stdout",
          "text": [
            "Requirement already satisfied: rasterio in /usr/local/lib/python3.7/dist-packages (1.2.10)\n",
            "Requirement already satisfied: snuggs>=1.4.1 in /usr/local/lib/python3.7/dist-packages (from rasterio) (1.4.7)\n",
            "Requirement already satisfied: certifi in /usr/local/lib/python3.7/dist-packages (from rasterio) (2021.10.8)\n",
            "Requirement already satisfied: numpy in /usr/local/lib/python3.7/dist-packages (from rasterio) (1.19.5)\n",
            "Requirement already satisfied: click>=4.0 in /usr/local/lib/python3.7/dist-packages (from rasterio) (7.1.2)\n",
            "Requirement already satisfied: cligj>=0.5 in /usr/local/lib/python3.7/dist-packages (from rasterio) (0.7.2)\n",
            "Requirement already satisfied: setuptools in /usr/local/lib/python3.7/dist-packages (from rasterio) (57.4.0)\n",
            "Requirement already satisfied: click-plugins in /usr/local/lib/python3.7/dist-packages (from rasterio) (1.1.1)\n",
            "Requirement already satisfied: attrs in /usr/local/lib/python3.7/dist-packages (from rasterio) (21.2.0)\n",
            "Requirement already satisfied: affine in /usr/local/lib/python3.7/dist-packages (from rasterio) (2.3.0)\n",
            "Requirement already satisfied: pyparsing>=2.1.6 in /usr/local/lib/python3.7/dist-packages (from snuggs>=1.4.1->rasterio) (2.4.7)\n",
            "Requirement already satisfied: geopandas in /usr/local/lib/python3.7/dist-packages (0.10.2)\n",
            "Requirement already satisfied: shapely>=1.6 in /usr/local/lib/python3.7/dist-packages (from geopandas) (1.8.0)\n",
            "Requirement already satisfied: pandas>=0.25.0 in /usr/local/lib/python3.7/dist-packages (from geopandas) (1.1.5)\n",
            "Requirement already satisfied: fiona>=1.8 in /usr/local/lib/python3.7/dist-packages (from geopandas) (1.8.20)\n",
            "Requirement already satisfied: pyproj>=2.2.0 in /usr/local/lib/python3.7/dist-packages (from geopandas) (3.2.1)\n",
            "Requirement already satisfied: click-plugins>=1.0 in /usr/local/lib/python3.7/dist-packages (from fiona>=1.8->geopandas) (1.1.1)\n",
            "Requirement already satisfied: cligj>=0.5 in /usr/local/lib/python3.7/dist-packages (from fiona>=1.8->geopandas) (0.7.2)\n",
            "Requirement already satisfied: certifi in /usr/local/lib/python3.7/dist-packages (from fiona>=1.8->geopandas) (2021.10.8)\n",
            "Requirement already satisfied: six>=1.7 in /usr/local/lib/python3.7/dist-packages (from fiona>=1.8->geopandas) (1.15.0)\n",
            "Requirement already satisfied: attrs>=17 in /usr/local/lib/python3.7/dist-packages (from fiona>=1.8->geopandas) (21.2.0)\n",
            "Requirement already satisfied: click>=4.0 in /usr/local/lib/python3.7/dist-packages (from fiona>=1.8->geopandas) (7.1.2)\n",
            "Requirement already satisfied: munch in /usr/local/lib/python3.7/dist-packages (from fiona>=1.8->geopandas) (2.5.0)\n",
            "Requirement already satisfied: setuptools in /usr/local/lib/python3.7/dist-packages (from fiona>=1.8->geopandas) (57.4.0)\n",
            "Requirement already satisfied: python-dateutil>=2.7.3 in /usr/local/lib/python3.7/dist-packages (from pandas>=0.25.0->geopandas) (2.8.2)\n",
            "Requirement already satisfied: numpy>=1.15.4 in /usr/local/lib/python3.7/dist-packages (from pandas>=0.25.0->geopandas) (1.19.5)\n",
            "Requirement already satisfied: pytz>=2017.2 in /usr/local/lib/python3.7/dist-packages (from pandas>=0.25.0->geopandas) (2018.9)\n"
          ]
        }
      ]
    },
    {
      "cell_type": "code",
      "metadata": {
        "colab": {
          "base_uri": "https://localhost:8080/"
        },
        "id": "ZDx6KMVR0Pwn",
        "outputId": "c1749c85-112a-4262-ad53-a1978d0813cd"
      },
      "source": [
        "% cd /content/drive/MyDrive/Colab Notebooks/SPACENET7/DATASET/dataset_pruebas"
      ],
      "id": "ZDx6KMVR0Pwn",
      "execution_count": 33,
      "outputs": [
        {
          "output_type": "stream",
          "name": "stdout",
          "text": [
            "/content/drive/MyDrive/Colab Notebooks/SPACENET7/DATASET/dataset_pruebas\n"
          ]
        }
      ]
    },
    {
      "cell_type": "code",
      "metadata": {
        "id": "e986c2e9"
      },
      "source": [
        "# Hyperparameters\n",
        "in_channel = 3\n",
        "num_classes = 1\n",
        "learning_rate = 1e-3\n",
        "batch_size = 16\n",
        "num_epochs = 2\n",
        "chip_dimension = 256"
      ],
      "id": "e986c2e9",
      "execution_count": 34,
      "outputs": []
    },
    {
      "cell_type": "code",
      "metadata": {
        "id": "25d7b7d5"
      },
      "source": [
        "train_dir = Path('../../DATASET/dataset_pruebas/train')\n",
        "test_dir = Path('../../DATASET/dataset_pruebas/validation')\n",
        "sample_dir = Path('../../DATASET/SN7_buildings_train_sample')\n",
        "\n",
        "root_dir  = train_dir\n",
        "csv_file = Path('../output_csvs/df_train_untidy.csv')\n",
        "csv_file_test = Path('../output_csvs/df_test_untidy.csv')\n",
        "df = pd.read_csv(csv_file)\n",
        "df_test = pd.read_csv(csv_file_test)"
      ],
      "id": "25d7b7d5",
      "execution_count": 35,
      "outputs": []
    },
    {
      "cell_type": "code",
      "metadata": {
        "id": "fc928582"
      },
      "source": [
        "import albumentations as A\n",
        "from albumentations.pytorch import ToTensorV2\n",
        "mean = [0.485, 0.456, 0.406]\n",
        "std = [0.229, 0.224, 0.225]\n",
        "A.Normalize(mean=mean,std=std)\n",
        "A.Rotate(limit=(-360, 360), interpolation=4, border_mode=4,p=1),\n",
        "\n",
        "chip_dimension = 256\n",
        "\n",
        "transform = A.Compose(\n",
        "    [\n",
        "        A.PadIfNeeded(min_height=chip_dimension,min_width=chip_dimension,value=0,p=1),\n",
        "        A.RandomRotate90(p=1.0),\n",
        "        ToTensorV2()\n",
        "    ]\n",
        ")"
      ],
      "id": "fc928582",
      "execution_count": 36,
      "outputs": []
    },
    {
      "cell_type": "code",
      "metadata": {
        "id": "bfce2554"
      },
      "source": [
        "train_set   = Dataloader_trdp(root_dir=root_dir,csv_file=csv_file,chip_dimension=chip_dimension,transform=transform)\n",
        "\n",
        "testing_set = Dataloader_trdp(root_dir=root_dir,csv_file=csv_file_test,chip_dimension=chip_dimension,transform=transform)"
      ],
      "id": "bfce2554",
      "execution_count": 37,
      "outputs": []
    },
    {
      "cell_type": "code",
      "metadata": {
        "colab": {
          "base_uri": "https://localhost:8080/"
        },
        "id": "215d7b57",
        "outputId": "1ceb0e00-e69a-47ca-e876-d4a4f14e6b2a"
      },
      "source": [
        "print(f\"len(train_set): {len(train_set)}\")\n",
        "#print(f\"len(testing_set): {len(testing_set)}\")\n",
        "\n",
        "for i in range(len(train_set)):\n",
        "    sample = train_set[i]\n",
        "    # verify dimensionality\n",
        "    print(sample['raster_diff'].shape, sample['mask_diff'].shape)\n",
        "    if i==15:\n",
        "        break"
      ],
      "id": "215d7b57",
      "execution_count": 38,
      "outputs": [
        {
          "output_type": "stream",
          "name": "stdout",
          "text": [
            "len(train_set): 1504\n",
            "torch.Size([3, 256, 256]) torch.Size([1, 256, 256])\n",
            "torch.Size([3, 256, 256]) torch.Size([1, 256, 256])\n",
            "torch.Size([3, 256, 256]) torch.Size([1, 256, 256])\n",
            "torch.Size([3, 256, 256]) torch.Size([1, 256, 256])\n",
            "torch.Size([3, 256, 256]) torch.Size([1, 256, 256])\n",
            "torch.Size([3, 256, 256]) torch.Size([1, 256, 256])\n",
            "torch.Size([3, 256, 256]) torch.Size([1, 256, 256])\n",
            "torch.Size([3, 256, 256]) torch.Size([1, 256, 256])\n",
            "torch.Size([3, 256, 256]) torch.Size([1, 256, 256])\n",
            "torch.Size([3, 256, 256]) torch.Size([1, 256, 256])\n",
            "torch.Size([3, 256, 256]) torch.Size([1, 256, 256])\n",
            "torch.Size([3, 256, 256]) torch.Size([1, 256, 256])\n",
            "torch.Size([3, 256, 256]) torch.Size([1, 256, 256])\n",
            "torch.Size([3, 256, 256]) torch.Size([1, 256, 256])\n",
            "torch.Size([3, 256, 256]) torch.Size([1, 256, 256])\n",
            "torch.Size([3, 256, 256]) torch.Size([1, 256, 256])\n"
          ]
        }
      ]
    },
    {
      "cell_type": "code",
      "metadata": {
        "id": "8aeb1b3f"
      },
      "source": [
        "train_set, test_set = torch.utils.data.random_split(train_set, [1000,504])"
      ],
      "id": "8aeb1b3f",
      "execution_count": 39,
      "outputs": []
    },
    {
      "cell_type": "code",
      "metadata": {
        "id": "0b04e34a"
      },
      "source": [
        "train_loader = DataLoader(dataset = train_set, batch_size=batch_size, shuffle = True)\n",
        "test_loader = DataLoader(dataset = test_set, batch_size=batch_size, shuffle = True)"
      ],
      "id": "0b04e34a",
      "execution_count": 50,
      "outputs": []
    },
    {
      "cell_type": "markdown",
      "metadata": {
        "id": "bc5da0ef"
      },
      "source": [
        "\n",
        "# UNET\n"
      ],
      "id": "bc5da0ef"
    },
    {
      "cell_type": "code",
      "metadata": {
        "colab": {
          "base_uri": "https://localhost:8080/"
        },
        "id": "v2BaBPhU0_eQ",
        "outputId": "b05195c6-26a5-496b-f15c-e35077ea31b7"
      },
      "source": [
        "% cd /content/drive/MyDrive/Colab Notebooks/SPACENET7/Multi-temporal.building.tracker/codes"
      ],
      "id": "v2BaBPhU0_eQ",
      "execution_count": 41,
      "outputs": [
        {
          "output_type": "stream",
          "name": "stdout",
          "text": [
            "/content/drive/MyDrive/Colab Notebooks/SPACENET7/Multi-temporal.building.tracker/codes\n"
          ]
        }
      ]
    },
    {
      "cell_type": "code",
      "metadata": {
        "id": "f86a8b0b",
        "scrolled": true
      },
      "source": [
        "import torch\n",
        "import albumentations as A\n",
        "from albumentations.pytorch import ToTensorV2\n",
        "from tqdm import tqdm\n",
        "import torch.nn as nn\n",
        "import torch.optim as optim\n",
        "from model import UNET\n",
        "from utils import (\n",
        "    load_checkpoint,\n",
        "    save_checkpoint,\n",
        "    #get_loaders,\n",
        "    check_accuracy,\n",
        "    save_predictions_as_imgs,\n",
        ")\n"
      ],
      "id": "f86a8b0b",
      "execution_count": 42,
      "outputs": []
    },
    {
      "cell_type": "code",
      "metadata": {
        "colab": {
          "base_uri": "https://localhost:8080/",
          "height": 35
        },
        "id": "2e631de6",
        "outputId": "2e36a9f2-d3dc-428b-b619-3c6b560d4087"
      },
      "source": [
        "\n",
        "# Hyperparameters etc.\n",
        "LEARNING_RATE = 1e-4\n",
        "DEVICE = \"cuda\" if torch.cuda.is_available() else \"cpu\"\n",
        "BATCH_SIZE = 8\n",
        "NUM_EPOCHS = 3\n",
        "NUM_WORKERS = 2\n",
        "IMAGE_HEIGHT = 160  # 1280 originally\n",
        "IMAGE_WIDTH = 240  # 1918 originally\n",
        "PIN_MEMORY = True\n",
        "LOAD_MODEL = False\n",
        "'''\n",
        "TRAIN_IMG_DIR = \"data/train_images/\"\n",
        "TRAIN_MASK_DIR = \"data/train_masks/\"\n",
        "VAL_IMG_DIR = \"data/val_images/\"\n",
        "VAL_MASK_DIR = \"data/val_masks/\"\n",
        "'''"
      ],
      "id": "2e631de6",
      "execution_count": 43,
      "outputs": [
        {
          "output_type": "execute_result",
          "data": {
            "application/vnd.google.colaboratory.intrinsic+json": {
              "type": "string"
            },
            "text/plain": [
              "'\\nTRAIN_IMG_DIR = \"data/train_images/\"\\nTRAIN_MASK_DIR = \"data/train_masks/\"\\nVAL_IMG_DIR = \"data/val_images/\"\\nVAL_MASK_DIR = \"data/val_masks/\"\\n'"
            ]
          },
          "metadata": {},
          "execution_count": 43
        }
      ]
    },
    {
      "cell_type": "code",
      "metadata": {
        "id": "befdf97e"
      },
      "source": [
        "def train_fn(loader, model, optimizer, loss_fn, scaler):\n",
        "    \n",
        "    loop = tqdm(loader)\n",
        "    \n",
        "    for batch_idx, (data) in enumerate(loop):\n",
        "        \n",
        "        images = data[\"raster_diff\"].float()\n",
        "        targets = data[\"mask_diff\"].float()#type(torch.LongTensor)\n",
        "       # images, mask = images.to(device), mask.to(device).unsqueeze(1)\n",
        "        \n",
        "        \n",
        "        \n",
        "        images = images.to(device=DEVICE)\n",
        "        #targets = targets.float().unsqueeze(1).to(device=DEVICE) #\n",
        "        targets = targets.float().squeeze().to(device=DEVICE) #\n",
        "\n",
        "        # forward\n",
        "        with torch.cuda.amp.autocast():\n",
        "            predictions = model(images).squeeze()\n",
        "            loss = loss_fn(predictions, targets)\n",
        "\n",
        "        # backward\n",
        "        optimizer.zero_grad()\n",
        "        scaler.scale(loss).backward()\n",
        "        scaler.step(optimizer)\n",
        "        scaler.update()\n",
        "\n",
        "        # update tqdm loop: \n",
        "        loop.set_postfix(loss=loss.item())\n",
        "        "
      ],
      "id": "befdf97e",
      "execution_count": 44,
      "outputs": []
    },
    {
      "cell_type": "code",
      "metadata": {
        "id": "ee36b193"
      },
      "source": [
        "train_transform = A.Compose(\n",
        "        [\n",
        "            A.Resize(height=IMAGE_HEIGHT, width=IMAGE_WIDTH),\n",
        "            A.Rotate(limit=35, p=1.0),\n",
        "            A.HorizontalFlip(p=0.5),\n",
        "            A.VerticalFlip(p=0.1),\n",
        "            A.Normalize(\n",
        "                mean=[0.0, 0.0, 0.0],\n",
        "                std=[1.0, 1.0, 1.0],\n",
        "                max_pixel_value=255.0,\n",
        "            ),\n",
        "            ToTensorV2(),\n",
        "        ],\n",
        "    )\n",
        "\n",
        "val_transforms = A.Compose(\n",
        "        [\n",
        "            A.Resize(height=IMAGE_HEIGHT, width=IMAGE_WIDTH),\n",
        "            A.Normalize(\n",
        "                mean=[0.0, 0.0, 0.0],\n",
        "                std=[1.0, 1.0, 1.0],\n",
        "                max_pixel_value=255.0,\n",
        "            ),\n",
        "            ToTensorV2(),\n",
        "        ],\n",
        "    )\n"
      ],
      "id": "ee36b193",
      "execution_count": 45,
      "outputs": []
    },
    {
      "cell_type": "code",
      "metadata": {
        "id": "7170de5a"
      },
      "source": [
        "model = UNET(in_channels=3, out_channels=1).to(DEVICE)\n",
        "loss_fn = nn.BCEWithLogitsLoss()\n",
        "optimizer = optim.Adam(model.parameters(), lr=LEARNING_RATE)"
      ],
      "id": "7170de5a",
      "execution_count": 46,
      "outputs": []
    },
    {
      "cell_type": "code",
      "metadata": {
        "id": "ace8e75e"
      },
      "source": [
        "torch.backends.cudnn.enabled = False"
      ],
      "id": "ace8e75e",
      "execution_count": 47,
      "outputs": []
    },
    {
      "cell_type": "code",
      "metadata": {
        "colab": {
          "base_uri": "https://localhost:8080/",
          "height": 127
        },
        "id": "3599020f",
        "scrolled": true,
        "outputId": "010c122f-96c9-46fd-b380-59e55e94420a"
      },
      "source": [
        "'''\n",
        "num_correct = 0\n",
        "num_pixels = 0\n",
        "dice_score = 0\n",
        "model.eval()\n",
        "with torch.no_grad():\n",
        "        for data in test_loader:\n",
        "            x = data[\"raster_diff\"].float()\n",
        "            y = data[\"mask_diff\"].float()\n",
        "            x = x.to(device)\n",
        "            y = y.to(device).unsqueeze(1)\n",
        "            print(f\"x.shape : {x.shape}, y.shape : {y.shape}\")\n",
        "            preds = torch.sigmoid(model(x))\n",
        "            preds = (preds > 0.5).float()\n",
        "            num_correct += (preds == y).sum()\n",
        "            num_pixels += torch.numel(preds)\n",
        "            dice_score += (2 * (preds * y).sum()) / (\n",
        "                (preds + y).sum() + 1e-8\n",
        "            )\n",
        "\n",
        "print(\n",
        "        f\"Got {num_correct}/{num_pixels} with acc {num_correct/num_pixels*100:.2f}\"\n",
        "    )\n",
        "print(f\"Dice score: {dice_score/len(loader)}\")\n",
        "'''"
      ],
      "id": "3599020f",
      "execution_count": 48,
      "outputs": [
        {
          "output_type": "execute_result",
          "data": {
            "application/vnd.google.colaboratory.intrinsic+json": {
              "type": "string"
            },
            "text/plain": [
              "'\\nnum_correct = 0\\nnum_pixels = 0\\ndice_score = 0\\nmodel.eval()\\nwith torch.no_grad():\\n        for data in test_loader:\\n            x = data[\"raster_diff\"].float()\\n            y = data[\"mask_diff\"].float()\\n            x = x.to(device)\\n            y = y.to(device).unsqueeze(1)\\n            print(f\"x.shape : {x.shape}, y.shape : {y.shape}\")\\n            preds = torch.sigmoid(model(x))\\n            preds = (preds > 0.5).float()\\n            num_correct += (preds == y).sum()\\n            num_pixels += torch.numel(preds)\\n            dice_score += (2 * (preds * y).sum()) / (\\n                (preds + y).sum() + 1e-8\\n            )\\n\\nprint(\\n        f\"Got {num_correct}/{num_pixels} with acc {num_correct/num_pixels*100:.2f}\"\\n    )\\nprint(f\"Dice score: {dice_score/len(loader)}\")\\n'"
            ]
          },
          "metadata": {},
          "execution_count": 48
        }
      ]
    },
    {
      "cell_type": "code",
      "metadata": {
        "id": "30a908d6"
      },
      "source": [
        "'''\n",
        "train_loader, val_loader = get_loaders(\n",
        "        TRAIN_IMG_DIR,\n",
        "        TRAIN_MASK_DIR,\n",
        "        VAL_IMG_DIR,\n",
        "        VAL_MASK_DIR,\n",
        "        BATCH_SIZE,\n",
        "        train_transform,\n",
        "        val_transforms,\n",
        "        NUM_WORKERS,\n",
        "        PIN_MEMORY,\n",
        "    )\n",
        "'''\n",
        "if LOAD_MODEL:\n",
        "        load_checkpoint(torch.load(\"my_checkpoint.pth.tar\"), model)\n",
        "def check_accuracy(loader, model, device=\"cuda\"):\n",
        "    num_correct = 0\n",
        "    num_pixels = 0\n",
        "    dice_score = 0\n",
        "    model.eval()\n",
        "    with torch.no_grad():\n",
        "            for data in loader:\n",
        "                x = data[\"raster_diff\"].float()\n",
        "                y = data[\"mask_diff\"].float()\n",
        "                x = x.to(device)\n",
        "                y = y.to(device).unsqueeze(1)\n",
        "                print(f\"x.shape : {x.shape}, y.shape : {y.shape}\")\n",
        "                preds = torch.sigmoid(model(x))\n",
        "                preds = (preds > 0.5).float()\n",
        "                num_correct += (preds == y).sum()\n",
        "                num_pixels += torch.numel(preds)\n",
        "                dice_score += (2 * (preds * y).sum()) / (\n",
        "                    (preds + y).sum() + 1e-8\n",
        "                )\n",
        "\n",
        "    print(\n",
        "            f\"Got {num_correct}/{num_pixels} with acc {num_correct/num_pixels*100:.2f}\"\n",
        "        )\n",
        "    print(f\"Dice score: {dice_score/len(loader)}\")\n",
        "    model.train()\n",
        "#check_accuracy(test_loader, model, device=DEVICE)\n",
        "scaler = torch.cuda.amp.GradScaler()\n"
      ],
      "id": "30a908d6",
      "execution_count": null,
      "outputs": []
    },
    {
      "cell_type": "code",
      "metadata": {
        "colab": {
          "base_uri": "https://localhost:8080/"
        },
        "id": "MGEVpSPHe5D4",
        "outputId": "ff0714a5-c4f2-44a7-9f0a-661a468d7099"
      },
      "source": [
        "test_loader"
      ],
      "id": "MGEVpSPHe5D4",
      "execution_count": 51,
      "outputs": [
        {
          "output_type": "execute_result",
          "data": {
            "text/plain": [
              "<torch.utils.data.dataloader.DataLoader at 0x7fa96891b810>"
            ]
          },
          "metadata": {},
          "execution_count": 51
        }
      ]
    },
    {
      "cell_type": "code",
      "metadata": {
        "id": "61d92b8c"
      },
      "source": [
        "\n",
        "for epoch in range(NUM_EPOCHS):\n",
        "        train_fn(train_loader, model, optimizer, loss_fn, scaler)\n",
        "\n",
        "        # save model\n",
        "        checkpoint = {\n",
        "            \"state_dict\": model.state_dict(),\n",
        "            \"optimizer\":optimizer.state_dict(),\n",
        "        }\n",
        "        save_checkpoint(checkpoint)\n",
        "\n",
        "        # check accuracy\n",
        "        check_accuracy(val_loader, model, device=DEVICE)\n",
        "\n",
        "        # print some examples to a folder\n",
        "        save_predictions_as_imgs(\n",
        "            test_loader, model, folder=\"saved_images/\", device=DEVICE\n",
        "        )\n",
        "\n",
        "\n"
      ],
      "id": "61d92b8c",
      "execution_count": null,
      "outputs": []
    },
    {
      "cell_type": "code",
      "metadata": {
        "id": "848d9dad"
      },
      "source": [
        "def save_predictions_as_imgs():#()\n",
        "#        loader, model, folder=\"/home/sebasmos/Desktop/TRPD/DATASET/segmented_imgs/\", device=\"cuda\"\n",
        "#):\n",
        "    model.eval()\n",
        "    for idx, data in enumerate(loader):\n",
        "                    \n",
        "        x = data[\"raster_diff\"].float()\n",
        "        y = data[\"mask_diff\"].float()\n",
        "        x = x.to(device=device)\n",
        "        with torch.no_grad():\n",
        "            preds = torch.sigmoid(model(x))\n",
        "            preds = (preds > 0.5).float()\n",
        "        torchvision.utils.save_image(preds, f\"{folder}/pred_{idx}.png\")\n",
        "        torchvision.utils.save_image(y.unsqueeze(1), f\"{folder}{idx}.png\")\n",
        "\n",
        "    model.train()"
      ],
      "id": "848d9dad",
      "execution_count": null,
      "outputs": []
    },
    {
      "cell_type": "code",
      "metadata": {
        "id": "94276746"
      },
      "source": [
        ""
      ],
      "id": "94276746",
      "execution_count": null,
      "outputs": []
    }
  ]
}