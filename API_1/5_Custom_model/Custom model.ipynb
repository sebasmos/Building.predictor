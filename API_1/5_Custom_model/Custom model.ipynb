{
 "cells": [
  {
   "cell_type": "code",
   "execution_count": 1,
   "id": "champion-movement",
   "metadata": {},
   "outputs": [
    {
     "name": "stderr",
     "output_type": "stream",
     "text": [
      "/home/sebasmos/anaconda3/envs/solaris/lib/python3.7/site-packages/tensorflow/python/framework/dtypes.py:526: FutureWarning: Passing (type, 1) or '1type' as a synonym of type is deprecated; in a future version of numpy, it will be understood as (type, (1,)) / '(1,)type'.\n",
      "  _np_qint8 = np.dtype([(\"qint8\", np.int8, 1)])\n",
      "/home/sebasmos/anaconda3/envs/solaris/lib/python3.7/site-packages/tensorflow/python/framework/dtypes.py:527: FutureWarning: Passing (type, 1) or '1type' as a synonym of type is deprecated; in a future version of numpy, it will be understood as (type, (1,)) / '(1,)type'.\n",
      "  _np_quint8 = np.dtype([(\"quint8\", np.uint8, 1)])\n",
      "/home/sebasmos/anaconda3/envs/solaris/lib/python3.7/site-packages/tensorflow/python/framework/dtypes.py:528: FutureWarning: Passing (type, 1) or '1type' as a synonym of type is deprecated; in a future version of numpy, it will be understood as (type, (1,)) / '(1,)type'.\n",
      "  _np_qint16 = np.dtype([(\"qint16\", np.int16, 1)])\n",
      "/home/sebasmos/anaconda3/envs/solaris/lib/python3.7/site-packages/tensorflow/python/framework/dtypes.py:529: FutureWarning: Passing (type, 1) or '1type' as a synonym of type is deprecated; in a future version of numpy, it will be understood as (type, (1,)) / '(1,)type'.\n",
      "  _np_quint16 = np.dtype([(\"quint16\", np.uint16, 1)])\n",
      "/home/sebasmos/anaconda3/envs/solaris/lib/python3.7/site-packages/tensorflow/python/framework/dtypes.py:530: FutureWarning: Passing (type, 1) or '1type' as a synonym of type is deprecated; in a future version of numpy, it will be understood as (type, (1,)) / '(1,)type'.\n",
      "  _np_qint32 = np.dtype([(\"qint32\", np.int32, 1)])\n",
      "/home/sebasmos/anaconda3/envs/solaris/lib/python3.7/site-packages/tensorflow/python/framework/dtypes.py:535: FutureWarning: Passing (type, 1) or '1type' as a synonym of type is deprecated; in a future version of numpy, it will be understood as (type, (1,)) / '(1,)type'.\n",
      "  np_resource = np.dtype([(\"resource\", np.ubyte, 1)])\n"
     ]
    }
   ],
   "source": [
    "from tensorflow.keras.layers import Input, Conv2D, MaxPooling2D, Conv2DTranspose\n",
    "from tensorflow.keras.layers import concatenate, BatchNormalization, Dropout\n",
    "from tensorflow.keras import Model\n"
   ]
  },
  {
   "cell_type": "code",
   "execution_count": 2,
   "id": "partial-norfolk",
   "metadata": {},
   "outputs": [],
   "source": [
    "\n",
    "def cosmiq_sn4_baseline(input_shape=(512, 512, 3), base_depth=64):\n",
    "    \"\"\"Keras implementation of untrained TernausNet model architecture.\n",
    "\n",
    "    Arguments:\n",
    "    ----------\n",
    "    input_shape (3-tuple): a tuple defining the shape of the input image.\n",
    "    base_depth (int): the base convolution filter depth for the first layer\n",
    "        of the model. Must be divisible by two, as the final layer uses\n",
    "        base_depth/2 filters. The default value, 64, corresponds to the\n",
    "        original TernausNetV1 depth.\n",
    "\n",
    "    Returns:\n",
    "    --------\n",
    "    An uncompiled Keras Model instance with TernausNetV1 architecture.\n",
    "\n",
    "    \"\"\"\n",
    "    inputs = Input(input_shape)\n",
    "    conv1 = Conv2D(base_depth, 3, activation='relu', padding='same')(inputs)\n",
    "    pool1 = MaxPooling2D(pool_size=(2, 2))(conv1)\n",
    "\n",
    "    conv2_1 = Conv2D(base_depth*2, 3, activation='relu',\n",
    "                     padding='same')(pool1)\n",
    "    pool2 = MaxPooling2D(pool_size=(2, 2))(conv2_1)\n",
    "\n",
    "    conv3_1 = Conv2D(base_depth*4, 3, activation='relu',\n",
    "                     padding='same')(pool2)\n",
    "    conv3_2 = Conv2D(base_depth*4, 3, activation='relu',\n",
    "                     padding='same')(conv3_1)\n",
    "    pool3 = MaxPooling2D(pool_size=(2, 2))(conv3_2)\n",
    "\n",
    "    conv4_1 = Conv2D(base_depth*8, 3, activation='relu',\n",
    "                     padding='same')(pool3)\n",
    "    conv4_2 = Conv2D(base_depth*8, 3, activation='relu',\n",
    "                     padding='same')(conv4_1)\n",
    "    pool4 = MaxPooling2D(pool_size=(2, 2))(conv4_2)\n",
    "\n",
    "    conv5_1 = Conv2D(base_depth*8, 3, activation='relu',\n",
    "                     padding='same')(pool4)\n",
    "    conv5_2 = Conv2D(base_depth*8, 3, activation='relu',\n",
    "                     padding='same')(conv5_1)\n",
    "    pool5 = MaxPooling2D(pool_size=(2, 2))(conv5_2)\n",
    "\n",
    "    conv6_1 = Conv2D(base_depth*8, 3, activation='relu',\n",
    "                     padding='same')(pool5)\n",
    "\n",
    "    up7 = Conv2DTranspose(base_depth*4, 2, strides=(2, 2), activation='relu',\n",
    "                          padding='same')(conv6_1)\n",
    "    concat7 = concatenate([up7, conv5_2])\n",
    "    conv7_1 = Conv2D(base_depth*8, 3, activation='relu',\n",
    "                     padding='same')(concat7)\n",
    "\n",
    "    up8 = Conv2DTranspose(base_depth*4, 2, strides=(2, 2), activation='relu',\n",
    "                          padding='same')(conv7_1)\n",
    "    concat8 = concatenate([up8, conv4_2])\n",
    "    conv8_1 = Conv2D(base_depth*8, 3, activation='relu',\n",
    "                     padding='same')(concat8)\n",
    "\n",
    "    up9 = Conv2DTranspose(base_depth*2, 2, strides=(2, 2), activation='relu',\n",
    "                          padding='same')(conv8_1)\n",
    "    concat9 = concatenate([up9, conv3_2])\n",
    "    conv9_1 = Conv2D(base_depth*4, 3, activation='relu',\n",
    "                     padding='same')(concat9)\n",
    "\n",
    "    up10 = Conv2DTranspose(base_depth, 2, strides=(2, 2), activation='relu',\n",
    "                           padding='same')(conv9_1)\n",
    "    concat10 = concatenate([up10, conv2_1])\n",
    "    conv10_1 = Conv2D(base_depth*2, 3, activation='relu',\n",
    "                      padding='same')(concat10)\n",
    "\n",
    "    up11 = Conv2DTranspose(int(base_depth/2), 2, strides=(2, 2),\n",
    "                           activation='relu', padding='same')(conv10_1)\n",
    "    concat11 = concatenate([up11, conv1])\n",
    "\n",
    "    out = Conv2D(1, 1, activation='sigmoid', padding='same')(concat11)\n",
    "\n",
    "    return Model(inputs=inputs, outputs=out)"
   ]
  },
  {
   "cell_type": "code",
   "execution_count": 3,
   "id": "enclosed-tunisia",
   "metadata": {},
   "outputs": [],
   "source": [
    "custom_model_dict = {'model_name': 'xdxd_spacenet4_custom',\n",
    "                     'weight_path': None,\n",
    "                     'weight_url': None,\n",
    "                     'arch': cosmiq_sn4_baseline}"
   ]
  },
  {
   "cell_type": "code",
   "execution_count": 4,
   "id": "fifteen-volunteer",
   "metadata": {},
   "outputs": [],
   "source": [
    "import solaris as sol"
   ]
  },
  {
   "cell_type": "code",
   "execution_count": 5,
   "id": "micro-bracelet",
   "metadata": {},
   "outputs": [
    {
     "data": {
      "text/plain": [
       "'/home/sebasmos/Documentos/TRDP/DATASET/API/models/xdxd_spacenet4_custom.yml'"
      ]
     },
     "execution_count": 5,
     "metadata": {},
     "output_type": "execute_result"
    }
   ],
   "source": [
    "path_to_model = \"/home/sebasmos/Documentos/TRDP/DATASET/API/models\"\n",
    "\n",
    "model_name = '/xdxd_spacenet4_custom.yml'\n",
    "\n",
    "fullpath = \"%s%s\" % ( path_to_model, model_name ) # for Linux\n",
    "\n",
    "fullpath"
   ]
  },
  {
   "cell_type": "code",
   "execution_count": 6,
   "id": "patent-orleans",
   "metadata": {},
   "outputs": [
    {
     "data": {
      "text/plain": [
       "{'model_name': 'xdxd_spacenet4_custom',\n",
       " 'model_path': None,\n",
       " 'train': True,\n",
       " 'infer': True,\n",
       " 'pretrained': False,\n",
       " 'nn_framework': 'torch',\n",
       " 'batch_size': 12,\n",
       " 'data_specs': {'width': 512,\n",
       "  'height': 512,\n",
       "  'dtype': None,\n",
       "  'image_type': 'zscore',\n",
       "  'rescale': False,\n",
       "  'rescale_minima': 'auto',\n",
       "  'rescale_maxima': 'auto',\n",
       "  'channels': 4,\n",
       "  'label_type': 'mask',\n",
       "  'is_categorical': False,\n",
       "  'num_classes': 1,\n",
       "  'mask_channels': 1,\n",
       "  'val_holdout_frac': 0.2,\n",
       "  'data_workers': None},\n",
       " 'training_data_csv': '/home/sebasmos/Documentos/TRDP/DATASET/SN7_buildings_train/csvs/sn7_baseline_train_df.csv',\n",
       " 'validation_data_csv': None,\n",
       " 'inference_data_csv': '/home/sebasmos/Documentos/TRDP/DATASET/SN7_buildings_train/csvs/sn7_baseline_test_public_df.csv',\n",
       " 'training_augmentation': {'augmentations': {'DropChannel': {'idx': 3,\n",
       "    'axis': 2},\n",
       "   'HorizontalFlip': {'p': 0.5},\n",
       "   'RandomRotate90': {'p': 0.5},\n",
       "   'RandomCrop': {'height': 512, 'width': 512, 'p': 1.0},\n",
       "   'Normalize': {'mean': [0.006479, 0.009328, 0.01123],\n",
       "    'std': [0.004986, 0.004964, 0.00495],\n",
       "    'max_pixel_value': 65535.0,\n",
       "    'p': 1.0}},\n",
       "  'p': 1.0,\n",
       "  'shuffle': True},\n",
       " 'validation_augmentation': {'augmentations': {'DropChannel': {'idx': 3,\n",
       "    'axis': 2},\n",
       "   'CenterCrop': {'height': 512, 'width': 512, 'p': 1.0},\n",
       "   'Normalize': {'mean': [0.006479, 0.009328, 0.01123],\n",
       "    'std': [0.004986, 0.004964, 0.00495],\n",
       "    'max_pixel_value': 65535.0,\n",
       "    'p': 1.0}},\n",
       "  'p': 1.0},\n",
       " 'inference_augmentation': {'augmentations': {'DropChannel': {'idx': 3,\n",
       "    'axis': 2,\n",
       "    'p': 1.0},\n",
       "   'Normalize': {'mean': [0.006479, 0.009328, 0.01123],\n",
       "    'std': [0.004986, 0.004964, 0.00495],\n",
       "    'max_pixel_value': 65535.0,\n",
       "    'p': 1.0}},\n",
       "  'p': 1.0},\n",
       " 'training': {'epochs': 60,\n",
       "  'steps_per_epoch': None,\n",
       "  'optimizer': 'Adam',\n",
       "  'lr': 0.0001,\n",
       "  'opt_args': None,\n",
       "  'loss': {'bcewithlogits': None, 'jaccard': None},\n",
       "  'loss_weights': {'bcewithlogits': 10, 'jaccard': 2.5},\n",
       "  'metrics': {'training': None, 'validation': None},\n",
       "  'checkpoint_frequency': 10,\n",
       "  'callbacks': {'model_checkpoint': {'filepath': 'xdxd_best.pth',\n",
       "    'monitor': 'val_loss'}},\n",
       "  'model_dest_path': 'xdxd.pth',\n",
       "  'verbose': True},\n",
       " 'inference': {'window_step_size_x': None,\n",
       "  'window_step_size_y': None,\n",
       "  'stitching_method': None,\n",
       "  'output_dir': 'inference_out/'}}"
      ]
     },
     "execution_count": 6,
     "metadata": {},
     "output_type": "execute_result"
    }
   ],
   "source": [
    "config = sol.utils.config.parse(fullpath)\n",
    "config\n"
   ]
  },
  {
   "cell_type": "code",
   "execution_count": 8,
   "id": "contrary-nursing",
   "metadata": {},
   "outputs": [
    {
     "ename": "TypeError",
     "evalue": "cosmiq_sn4_baseline() got an unexpected keyword argument 'pretrained'",
     "output_type": "error",
     "traceback": [
      "\u001b[0;31m---------------------------------------------------------------------------\u001b[0m",
      "\u001b[0;31mTypeError\u001b[0m                                 Traceback (most recent call last)",
      "\u001b[0;32m<ipython-input-8-48626b8e1f6d>\u001b[0m in \u001b[0;36m<module>\u001b[0;34m\u001b[0m\n\u001b[0;32m----> 1\u001b[0;31m \u001b[0mtrainer\u001b[0m \u001b[0;34m=\u001b[0m \u001b[0msol\u001b[0m\u001b[0;34m.\u001b[0m\u001b[0mnets\u001b[0m\u001b[0;34m.\u001b[0m\u001b[0mtrain\u001b[0m\u001b[0;34m.\u001b[0m\u001b[0mTrainer\u001b[0m\u001b[0;34m(\u001b[0m\u001b[0mconfig\u001b[0m\u001b[0;34m,\u001b[0m \u001b[0mcustom_model_dict\u001b[0m\u001b[0;34m=\u001b[0m\u001b[0mcustom_model_dict\u001b[0m\u001b[0;34m)\u001b[0m\u001b[0;34m\u001b[0m\u001b[0;34m\u001b[0m\u001b[0m\n\u001b[0m",
      "\u001b[0;32m~/anaconda3/envs/solaris/lib/python3.7/site-packages/solaris/nets/train.py\u001b[0m in \u001b[0;36m__init__\u001b[0;34m(self, config, custom_model_dict, custom_losses)\u001b[0m\n\u001b[1;32m     31\u001b[0m         self.model = get_model(self.model_name, self.framework,\n\u001b[1;32m     32\u001b[0m                                \u001b[0mself\u001b[0m\u001b[0;34m.\u001b[0m\u001b[0mmodel_path\u001b[0m\u001b[0;34m,\u001b[0m \u001b[0mself\u001b[0m\u001b[0;34m.\u001b[0m\u001b[0mpretrained\u001b[0m\u001b[0;34m,\u001b[0m\u001b[0;34m\u001b[0m\u001b[0;34m\u001b[0m\u001b[0m\n\u001b[0;32m---> 33\u001b[0;31m                                custom_model_dict, self.num_classes)\n\u001b[0m\u001b[1;32m     34\u001b[0m \u001b[0;34m\u001b[0m\u001b[0m\n\u001b[1;32m     35\u001b[0m         \u001b[0mself\u001b[0m\u001b[0;34m.\u001b[0m\u001b[0mtrain_df\u001b[0m\u001b[0;34m,\u001b[0m \u001b[0mself\u001b[0m\u001b[0;34m.\u001b[0m\u001b[0mval_df\u001b[0m \u001b[0;34m=\u001b[0m \u001b[0mget_train_val_dfs\u001b[0m\u001b[0;34m(\u001b[0m\u001b[0mself\u001b[0m\u001b[0;34m.\u001b[0m\u001b[0mconfig\u001b[0m\u001b[0;34m)\u001b[0m\u001b[0;34m\u001b[0m\u001b[0;34m\u001b[0m\u001b[0m\n",
      "\u001b[0;32m~/anaconda3/envs/solaris/lib/python3.7/site-packages/solaris/nets/model_io.py\u001b[0m in \u001b[0;36mget_model\u001b[0;34m(model_name, framework, model_path, pretrained, custom_model_dict, num_classes)\u001b[0m\n\u001b[1;32m     25\u001b[0m         \u001b[0mmodel_path\u001b[0m \u001b[0;34m=\u001b[0m \u001b[0mmd\u001b[0m\u001b[0;34m.\u001b[0m\u001b[0mget\u001b[0m\u001b[0;34m(\u001b[0m\u001b[0;34m'weight_path'\u001b[0m\u001b[0;34m)\u001b[0m\u001b[0;34m\u001b[0m\u001b[0;34m\u001b[0m\u001b[0m\n\u001b[1;32m     26\u001b[0m     \u001b[0;32mif\u001b[0m \u001b[0mnum_classes\u001b[0m \u001b[0;34m==\u001b[0m \u001b[0;36m1\u001b[0m\u001b[0;34m:\u001b[0m\u001b[0;34m\u001b[0m\u001b[0;34m\u001b[0m\u001b[0m\n\u001b[0;32m---> 27\u001b[0;31m         \u001b[0mmodel\u001b[0m \u001b[0;34m=\u001b[0m \u001b[0mmd\u001b[0m\u001b[0;34m.\u001b[0m\u001b[0mget\u001b[0m\u001b[0;34m(\u001b[0m\u001b[0;34m'arch'\u001b[0m\u001b[0;34m)\u001b[0m\u001b[0;34m(\u001b[0m\u001b[0mpretrained\u001b[0m\u001b[0;34m=\u001b[0m\u001b[0mpretrained\u001b[0m\u001b[0;34m)\u001b[0m\u001b[0;34m\u001b[0m\u001b[0;34m\u001b[0m\u001b[0m\n\u001b[0m\u001b[1;32m     28\u001b[0m     \u001b[0;32melse\u001b[0m\u001b[0;34m:\u001b[0m\u001b[0;34m\u001b[0m\u001b[0;34m\u001b[0m\u001b[0m\n\u001b[1;32m     29\u001b[0m         \u001b[0mmodel\u001b[0m \u001b[0;34m=\u001b[0m \u001b[0mmd\u001b[0m\u001b[0;34m.\u001b[0m\u001b[0mget\u001b[0m\u001b[0;34m(\u001b[0m\u001b[0;34m'arch'\u001b[0m\u001b[0;34m)\u001b[0m\u001b[0;34m(\u001b[0m\u001b[0mnum_classes\u001b[0m\u001b[0;34m=\u001b[0m\u001b[0mnum_classes\u001b[0m\u001b[0;34m,\u001b[0m \u001b[0mpretrained\u001b[0m\u001b[0;34m=\u001b[0m\u001b[0mpretrained\u001b[0m\u001b[0;34m)\u001b[0m\u001b[0;34m\u001b[0m\u001b[0;34m\u001b[0m\u001b[0m\n",
      "\u001b[0;31mTypeError\u001b[0m: cosmiq_sn4_baseline() got an unexpected keyword argument 'pretrained'"
     ]
    }
   ],
   "source": [
    "trainer = sol.nets.train.Trainer(config, custom_model_dict=custom_model_dict)"
   ]
  },
  {
   "cell_type": "code",
   "execution_count": null,
   "id": "sealed-catch",
   "metadata": {},
   "outputs": [],
   "source": []
  },
  {
   "cell_type": "code",
   "execution_count": null,
   "id": "willing-potential",
   "metadata": {},
   "outputs": [],
   "source": []
  },
  {
   "cell_type": "code",
   "execution_count": null,
   "id": "suitable-channel",
   "metadata": {},
   "outputs": [],
   "source": []
  },
  {
   "cell_type": "code",
   "execution_count": null,
   "id": "eleven-skating",
   "metadata": {},
   "outputs": [],
   "source": []
  }
 ],
 "metadata": {
  "kernelspec": {
   "display_name": "Python 3",
   "language": "python",
   "name": "python3"
  },
  "language_info": {
   "codemirror_mode": {
    "name": "ipython",
    "version": 3
   },
   "file_extension": ".py",
   "mimetype": "text/x-python",
   "name": "python",
   "nbconvert_exporter": "python",
   "pygments_lexer": "ipython3",
   "version": "3.7.8"
  }
 },
 "nbformat": 4,
 "nbformat_minor": 5
}
